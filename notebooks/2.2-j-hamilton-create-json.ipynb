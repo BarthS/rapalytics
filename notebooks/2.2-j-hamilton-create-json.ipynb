{
 "cells": [
  {
   "cell_type": "code",
   "execution_count": 1,
   "metadata": {
    "collapsed": false
   },
   "outputs": [
    {
     "data": {
      "text/plain": [
       "<jcc.JCCEnv at 0x7fc42ec7dd20>"
      ]
     },
     "execution_count": 1,
     "metadata": {},
     "output_type": "execute_result"
    }
   ],
   "source": [
    "import re, codecs, requests, os, json, nltk, lucene, numpy as np, pandas as pd\n",
    "#from nltk.sentiment import SentimentAnalyzer\n",
    "#from nltk.sentiment.util import *\n",
    "from org.apache.lucene.analysis.standard import StandardTokenizer\n",
    "from org.apache.lucene.analysis.en import EnglishAnalyzer\n",
    "from org.apache.lucene.analysis.tokenattributes import CharTermAttribute\n",
    "from org.apache.lucene.util import Version\n",
    "from java.io import StringReader\n",
    "lucene.initVM()"
   ]
  },
  {
   "cell_type": "code",
   "execution_count": 2,
   "metadata": {
    "collapsed": true
   },
   "outputs": [],
   "source": [
    "def tokenize(string):\n",
    "    tokenizer = StandardTokenizer()\n",
    "    tokenizer.setReader(StringReader(string))\n",
    "    token = tokenizer.addAttribute(CharTermAttribute.class_)\n",
    "    tokenizer.reset()\n",
    "    lucene_tokens = []\n",
    "    while tokenizer.incrementToken():\n",
    "        lucene_tokens.append(token.toString())\n",
    "    return lucene_tokens\n",
    "\n",
    "def normalize(string):\n",
    "    analyzer = EnglishAnalyzer()\n",
    "    tokenstream = analyzer.tokenStream('token', StringReader(string))\n",
    "    token = tokenstream.addAttribute(CharTermAttribute.class_)\n",
    "    tokenstream.reset()\n",
    "    tokens = []\n",
    "    while tokenstream.incrementToken():\n",
    "        if not re.search('\\d', token.toString()):\n",
    "            tokens.append(token.toString())\n",
    "    return tokens\n",
    "\n",
    "# def get_phonemes(word):\n",
    "#     try:\n",
    "#         return arpabet[word][0]\n",
    "#     except:\n",
    "#         try:\n",
    "#             return custom_dict[word]\n",
    "#         except:\n",
    "#             print(word)\n",
    "#             return word\n",
    "        \n",
    "def get_speakers_list(speakers_string):\n",
    "    speakers = speakers_string.upper()\n",
    "    speakers = re.sub(' AND ', '/', speakers)\n",
    "    speakers = re.sub(' & ', '/', speakers)\n",
    "    speakers = re.sub('\\[.*\\d ', '', speakers)\n",
    "    speakers = re.sub(' \\(.*\\)', '', speakers)\n",
    "    speakers = re.sub('CHORUS ', '', speakers)\n",
    "    speakers = re.sub(' EXCEPT.*\\]', '', speakers)\n",
    "    speakers = re.sub('ALEXANDER HAMILTON', 'HAMILTON', speakers)\n",
    "    speakers = re.sub('GEORGE WASHINGTON', 'WASHINGTON', speakers)\n",
    "    speakers = re.sub('WASHINTON', 'WASHINGTON', speakers)\n",
    "    speakers = re.sub('AARON BURR', 'BURR', speakers)\n",
    "    speakers = re.sub('JAMES MADISON', 'MADISON', speakers)\n",
    "    speakers = re.sub('JAMES', 'MADISON', speakers)    \n",
    "    speakers = re.sub('THOMAS JEFFERSON', 'JEFFERSON', speakers)\n",
    "    speakers = re.sub('ELIZA HAMILTON', 'ELIZA', speakers)\n",
    "    speakers = re.sub('JOHN LAURENS', 'LAURENS', speakers) \n",
    "    speakers = re.sub('\\[ENS\\]', 'ENSEMBLE', speakers)\n",
    "    speakers = re.sub('\\[WASH\\]', 'WASHINGTON', speakers)\n",
    "    speakers = re.sub('\\[WASH/', 'WASHINGTON/', speakers)\n",
    "    speakers = re.sub('/MULL/', '/MULLIGAN/', speakers)\n",
    "    speakers = re.sub('/LAUR/', '/LAURENS/', speakers)\n",
    "    speakers = re.sub('/LAF\\]', '/LAFAYETTE', speakers)\n",
    "    speakers = re.sub('\\[', '', speakers)\n",
    "    speakers = re.sub('\\]', '', speakers)\n",
    "    speakers = speakers.strip().split('/')\n",
    "    return speakers"
   ]
  },
  {
   "cell_type": "code",
   "execution_count": 4,
   "metadata": {
    "collapsed": false
   },
   "outputs": [],
   "source": [
    "hamilton_data = '../data/raw/'\n",
    "hamilton_json = []\n",
    "for filename in os.listdir(hamilton_data):\n",
    "    ### TODO: Make encoding word\n",
    "    with codecs.open(hamilton_data + filename, encoding='utf-8', errors='replace') as f:\n",
    "        lines = f.readlines()\n",
    "    track_dict = dict()\n",
    "    track_dict['act#'], track_dict['track#'], track_dict['track'] = filename[:-4].split('_')\n",
    "    lyrics = []\n",
    "    current_speaker = None\n",
    "    i = 0\n",
    "    for line in lines:\n",
    "        if len(line.strip()) == 0: continue\n",
    "        if re.match('^\\[.*\\]$', line.strip()):\n",
    "            current_speaker = get_speakers_list(line)\n",
    "        else:\n",
    "            line_dict = {\n",
    "                'line#': i,\n",
    "                'speakers': current_speaker,\n",
    "                'original': line.strip(),\n",
    "                'tokenized': tokenize(line),\n",
    "                'normalized': normalize(line)#,\n",
    "                #'phonemes': get_phonemes(line)\n",
    "            }\n",
    "            lyrics.append(line_dict)\n",
    "            i += 1\n",
    "    track_dict['lyrics'] = lyrics\n",
    "    hamilton_json.append(track_dict)"
   ]
  },
  {
   "cell_type": "code",
   "execution_count": 5,
   "metadata": {
    "collapsed": false
   },
   "outputs": [],
   "source": [
    "with open('../data/processed/hamilton_data.json', 'w') as f:\n",
    "    json.dump(hamilton_json, f)"
   ]
  }
 ],
 "metadata": {
  "anaconda-cloud": {},
  "kernelspec": {
   "display_name": "Python 2",
   "language": "python",
   "name": "python2"
  },
  "language_info": {
   "codemirror_mode": {
    "name": "ipython",
    "version": 2
   },
   "file_extension": ".py",
   "mimetype": "text/x-python",
   "name": "python",
   "nbconvert_exporter": "python",
   "pygments_lexer": "ipython2",
   "version": "2.7.12"
  }
 },
 "nbformat": 4,
 "nbformat_minor": 1
}
